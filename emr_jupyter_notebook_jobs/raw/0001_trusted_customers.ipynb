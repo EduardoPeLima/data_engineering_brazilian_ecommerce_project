{
 "cells": [
  {
   "cell_type": "code",
   "execution_count": 1,
   "id": "144fb1cc",
   "metadata": {},
   "outputs": [
    {
     "name": "stdout",
     "output_type": "stream",
     "text": [
      "Starting Spark application\n"
     ]
    },
    {
     "data": {
      "text/html": [
       "<table>\n",
       "<tr><th>ID</th><th>YARN Application ID</th><th>Kind</th><th>State</th><th>Spark UI</th><th>Driver log</th><th>User</th><th>Current session?</th></tr><tr><td>3</td><td>application_1702579954635_0004</td><td>pyspark</td><td>idle</td><td><a target=\"_blank\" href=\"http://ip-172-31-21-15.ec2.internal:20888/proxy/application_1702579954635_0004/\">Link</a></td><td><a target=\"_blank\" href=\"http://ip-172-31-21-15.ec2.internal:8042/node/containerlogs/container_1702579954635_0004_01_000001/livy\">Link</a></td><td>None</td><td>✔</td></tr></table>"
      ],
      "text/plain": [
       "<IPython.core.display.HTML object>"
      ]
     },
     "metadata": {},
     "output_type": "display_data"
    },
    {
     "data": {
      "application/vnd.jupyter.widget-view+json": {
       "model_id": "",
       "version_major": 2,
       "version_minor": 0
      },
      "text/plain": [
       "FloatProgress(value=0.0, bar_style='info', description='Progress:', layout=Layout(height='25px', width='50%'),…"
      ]
     },
     "metadata": {},
     "output_type": "display_data"
    },
    {
     "name": "stdout",
     "output_type": "stream",
     "text": [
      "SparkSession available as 'spark'.\n"
     ]
    },
    {
     "data": {
      "application/vnd.jupyter.widget-view+json": {
       "model_id": "",
       "version_major": 2,
       "version_minor": 0
      },
      "text/plain": [
       "FloatProgress(value=0.0, bar_style='info', description='Progress:', layout=Layout(height='25px', width='50%'),…"
      ]
     },
     "metadata": {},
     "output_type": "display_data"
    }
   ],
   "source": [
    "import re\n",
    "from pyspark.sql import SparkSession\n",
    "from pyspark.sql import SQLContext\n",
    "from datetime import datetime, timedelta"
   ]
  },
  {
   "cell_type": "code",
   "execution_count": 2,
   "id": "06f6860a",
   "metadata": {},
   "outputs": [
    {
     "data": {
      "application/vnd.jupyter.widget-view+json": {
       "model_id": "",
       "version_major": 2,
       "version_minor": 0
      },
      "text/plain": [
       "FloatProgress(value=0.0, bar_style='info', description='Progress:', layout=Layout(height='25px', width='50%'),…"
      ]
     },
     "metadata": {},
     "output_type": "display_data"
    }
   ],
   "source": [
    "#prefix list\n",
    "\n",
    "#dt: datetime\n",
    "#str: string"
   ]
  },
  {
   "cell_type": "code",
   "execution_count": 16,
   "id": "e7cb809e",
   "metadata": {},
   "outputs": [
    {
     "data": {
      "application/vnd.jupyter.widget-view+json": {
       "model_id": "",
       "version_major": 2,
       "version_minor": 0
      },
      "text/plain": [
       "FloatProgress(value=0.0, bar_style='info', description='Progress:', layout=Layout(height='25px', width='50%'),…"
      ]
     },
     "metadata": {},
     "output_type": "display_data"
    }
   ],
   "source": [
    "dt_proc_brazilian = datetime.now() - timedelta(hours=3)\n",
    "str_proc_brazilian_datetime = dt_proc_brazilian.strftime(\"%Y-%m-%dT%H:%M:%S\")"
   ]
  },
  {
   "cell_type": "code",
   "execution_count": 17,
   "id": "4e2b741e",
   "metadata": {},
   "outputs": [
    {
     "data": {
      "application/vnd.jupyter.widget-view+json": {
       "model_id": "",
       "version_major": 2,
       "version_minor": 0
      },
      "text/plain": [
       "FloatProgress(value=0.0, bar_style='info', description='Progress:', layout=Layout(height='25px', width='50%'),…"
      ]
     },
     "metadata": {},
     "output_type": "display_data"
    }
   ],
   "source": [
    "spark = SparkSession.builder.appName('raw_customers').getOrCreate()\n",
    "sqlContext=SQLContext(spark.sparkContext)"
   ]
  },
  {
   "cell_type": "code",
   "execution_count": 18,
   "id": "c73380f4",
   "metadata": {},
   "outputs": [
    {
     "data": {
      "application/vnd.jupyter.widget-view+json": {
       "model_id": "",
       "version_major": 2,
       "version_minor": 0
      },
      "text/plain": [
       "FloatProgress(value=0.0, bar_style='info', description='Progress:', layout=Layout(height='25px', width='50%'),…"
      ]
     },
     "metadata": {},
     "output_type": "display_data"
    },
    {
     "name": "stdout",
     "output_type": "stream",
     "text": [
      "olist_customers_dataset_20231214170632.csv"
     ]
    }
   ],
   "source": [
    "str_landzone_file_path = \"ecommerce/olist_customers_dataset_20231214170632.csv\"\n",
    "str_file_name = str_landzone_file_path.split(\"/\")[-1]\n",
    "print(str_file_name)"
   ]
  },
  {
   "cell_type": "code",
   "execution_count": 21,
   "id": "57216e52",
   "metadata": {},
   "outputs": [
    {
     "data": {
      "application/vnd.jupyter.widget-view+json": {
       "model_id": "",
       "version_major": 2,
       "version_minor": 0
      },
      "text/plain": [
       "FloatProgress(value=0.0, bar_style='info', description='Progress:', layout=Layout(height='25px', width='50%'),…"
      ]
     },
     "metadata": {},
     "output_type": "display_data"
    },
    {
     "name": "stdout",
     "output_type": "stream",
     "text": [
      "2023-12-14T17:06:32"
     ]
    }
   ],
   "source": [
    "str_file_extract_pattern = re.compile(r'(\\d{14})')\n",
    "str_file_extract_datetime = str_file_extract_pattern.search(str_file_name).group(1)\n",
    "\n",
    "dt_file_extract = datetime.strptime(str_file_extract_datetime, \"%Y%m%d%H%M%S\")\n",
    "str_file_extract_datetime = dt_file_extract = dt_file_extract.strftime(\"%Y-%m-%dT%H:%M:%S\")\n",
    "print(str_file_extract_datetime)"
   ]
  },
  {
   "cell_type": "code",
   "execution_count": 22,
   "id": "6c040b19",
   "metadata": {},
   "outputs": [
    {
     "data": {
      "application/vnd.jupyter.widget-view+json": {
       "model_id": "",
       "version_major": 2,
       "version_minor": 0
      },
      "text/plain": [
       "FloatProgress(value=0.0, bar_style='info', description='Progress:', layout=Layout(height='25px', width='50%'),…"
      ]
     },
     "metadata": {},
     "output_type": "display_data"
    }
   ],
   "source": [
    "str_bucket_landzone = \"ecommerce-project-landzone\"\n",
    "str_bucket_raw = \"ecommerce-project-raw\""
   ]
  },
  {
   "cell_type": "code",
   "execution_count": 23,
   "id": "e8d51aff",
   "metadata": {},
   "outputs": [
    {
     "data": {
      "application/vnd.jupyter.widget-view+json": {
       "model_id": "",
       "version_major": 2,
       "version_minor": 0
      },
      "text/plain": [
       "FloatProgress(value=0.0, bar_style='info', description='Progress:', layout=Layout(height='25px', width='50%'),…"
      ]
     },
     "metadata": {},
     "output_type": "display_data"
    }
   ],
   "source": [
    "str_raw_file_name = \"ecommerce/olist_customers_dataset\""
   ]
  },
  {
   "cell_type": "code",
   "execution_count": 25,
   "id": "13e78f31",
   "metadata": {},
   "outputs": [
    {
     "data": {
      "application/vnd.jupyter.widget-view+json": {
       "model_id": "",
       "version_major": 2,
       "version_minor": 0
      },
      "text/plain": [
       "FloatProgress(value=0.0, bar_style='info', description='Progress:', layout=Layout(height='25px', width='50%'),…"
      ]
     },
     "metadata": {},
     "output_type": "display_data"
    },
    {
     "name": "stdout",
     "output_type": "stream",
     "text": [
      "s3://ecommerce-project-landzone/ecommerce/olist_customers_dataset_20231214170632.csv"
     ]
    }
   ],
   "source": [
    "str_s3_landzone_file_path = f's3://{str_bucket_landzone}/{str_landzone_file_path}'\n",
    "print(str_s3_landzone_file_path)"
   ]
  },
  {
   "cell_type": "code",
   "execution_count": 26,
   "id": "f577c583",
   "metadata": {},
   "outputs": [
    {
     "data": {
      "application/vnd.jupyter.widget-view+json": {
       "model_id": "",
       "version_major": 2,
       "version_minor": 0
      },
      "text/plain": [
       "FloatProgress(value=0.0, bar_style='info', description='Progress:', layout=Layout(height='25px', width='50%'),…"
      ]
     },
     "metadata": {},
     "output_type": "display_data"
    },
    {
     "name": "stdout",
     "output_type": "stream",
     "text": [
      "rows from landzone file:  99441"
     ]
    }
   ],
   "source": [
    "landzone_customers = spark.read.format(\n",
    "    \"com.databricks.spark.csv\").option(\n",
    "    \"header\",\"true\").option(\n",
    "    \"encoding\",\"UTF-8\").option(\n",
    "    \"inferSchema\",\"false\").option(\n",
    "    \"delimiter\",\",\").load(\n",
    "    str_s3_landzone_file_path)\n",
    "\n",
    "landzone_customers.createOrReplaceTempView(\"landzone_customers\")\n",
    "landzone_customers.cache()\n",
    "qtd=landzone_customers.count()\n",
    "print('rows from landzone file: ', qtd)"
   ]
  },
  {
   "cell_type": "code",
   "execution_count": 27,
   "id": "b76d54ce",
   "metadata": {},
   "outputs": [
    {
     "data": {
      "application/vnd.jupyter.widget-view+json": {
       "model_id": "",
       "version_major": 2,
       "version_minor": 0
      },
      "text/plain": [
       "FloatProgress(value=0.0, bar_style='info', description='Progress:', layout=Layout(height='25px', width='50%'),…"
      ]
     },
     "metadata": {},
     "output_type": "display_data"
    },
    {
     "name": "stdout",
     "output_type": "stream",
     "text": [
      "customer_id\n",
      "customer_unique_id\n",
      "customer_zip_code_prefix\n",
      "customer_city\n",
      "customer_state"
     ]
    }
   ],
   "source": [
    "for col in landzone_customers.columns:\n",
    "    print(col)"
   ]
  },
  {
   "cell_type": "code",
   "execution_count": 28,
   "id": "cb726550",
   "metadata": {},
   "outputs": [
    {
     "data": {
      "application/vnd.jupyter.widget-view+json": {
       "model_id": "",
       "version_major": 2,
       "version_minor": 0
      },
      "text/plain": [
       "FloatProgress(value=0.0, bar_style='info', description='Progress:', layout=Layout(height='25px', width='50%'),…"
      ]
     },
     "metadata": {},
     "output_type": "display_data"
    },
    {
     "name": "stdout",
     "output_type": "stream",
     "text": [
      "99441"
     ]
    }
   ],
   "source": [
    "raw_customers = spark.sql(\n",
    "    f\"\"\"\n",
    "        SELECT\n",
    "            --default lake metadata\n",
    "            int(date_format(current_date, 'yyyyMM')) as ref,\n",
    "            int(date_format(current_date, 'yyyyMM')) as ref_partition,\n",
    "            \"{dt_file_extract}\" as dt_file_extraction,\n",
    "            \"{dt_file_extract}\" as dt_file_extraction_partition,\n",
    "            \"{str_proc_brazilian_datetime}\" as dt_proc,\n",
    "            \"{str_proc_brazilian_datetime}\" as dt_file_extraction_partition,\n",
    "            --file fields\n",
    "            customer_id,\n",
    "            customer_unique_id,\n",
    "            customer_zip_code_prefix,\n",
    "            customer_city,\n",
    "            customer_state\n",
    "        FROM landzone_customers\n",
    "    \"\"\"\n",
    ")\n",
    "\n",
    "raw_customers.createOrReplaceTempView('raw_customers')\n",
    "raw_customers.cache()\n",
    "raw_customers.count()"
   ]
  },
  {
   "cell_type": "code",
   "execution_count": 29,
   "id": "a75aab7e",
   "metadata": {},
   "outputs": [
    {
     "data": {
      "application/vnd.jupyter.widget-view+json": {
       "model_id": "",
       "version_major": 2,
       "version_minor": 0
      },
      "text/plain": [
       "FloatProgress(value=0.0, bar_style='info', description='Progress:', layout=Layout(height='25px', width='50%'),…"
      ]
     },
     "metadata": {},
     "output_type": "display_data"
    },
    {
     "name": "stdout",
     "output_type": "stream",
     "text": [
      "root\n",
      " |-- ref: integer (nullable = true)\n",
      " |-- ref_partition: integer (nullable = true)\n",
      " |-- dt_file_extraction: string (nullable = false)\n",
      " |-- dt_file_extraction_partition: string (nullable = false)\n",
      " |-- dt_proc: string (nullable = false)\n",
      " |-- dt_file_extraction_partition: string (nullable = false)\n",
      " |-- customer_id: string (nullable = true)\n",
      " |-- customer_unique_id: string (nullable = true)\n",
      " |-- customer_zip_code_prefix: string (nullable = true)\n",
      " |-- customer_city: string (nullable = true)\n",
      " |-- customer_state: string (nullable = true)"
     ]
    }
   ],
   "source": [
    "raw_customers.printSchema()"
   ]
  },
  {
   "cell_type": "code",
   "execution_count": 30,
   "id": "e4fcd225",
   "metadata": {},
   "outputs": [
    {
     "data": {
      "application/vnd.jupyter.widget-view+json": {
       "model_id": "",
       "version_major": 2,
       "version_minor": 0
      },
      "text/plain": [
       "FloatProgress(value=0.0, bar_style='info', description='Progress:', layout=Layout(height='25px', width='50%'),…"
      ]
     },
     "metadata": {},
     "output_type": "display_data"
    },
    {
     "name": "stdout",
     "output_type": "stream",
     "text": [
      "+------+-------------+-------------------+----------------------------+-------------------+----------------------------+--------------------+--------------------+------------------------+--------------------+--------------+\n",
      "|   ref|ref_partition| dt_file_extraction|dt_file_extraction_partition|            dt_proc|dt_file_extraction_partition|         customer_id|  customer_unique_id|customer_zip_code_prefix|       customer_city|customer_state|\n",
      "+------+-------------+-------------------+----------------------------+-------------------+----------------------------+--------------------+--------------------+------------------------+--------------------+--------------+\n",
      "|202312|       202312|2023-12-14T17:06:32|         2023-12-14T17:06:32|2023-12-14T18:09:12|         2023-12-14T18:09:12|06b8999e2fba1a1fb...|861eff4711a542e4b...|                   14409|              franca|            SP|\n",
      "|202312|       202312|2023-12-14T17:06:32|         2023-12-14T17:06:32|2023-12-14T18:09:12|         2023-12-14T18:09:12|18955e83d337fd6b2...|290c77bc529b7ac93...|                   09790|sao bernardo do c...|            SP|\n",
      "|202312|       202312|2023-12-14T17:06:32|         2023-12-14T17:06:32|2023-12-14T18:09:12|         2023-12-14T18:09:12|4e7b3e00288586ebd...|060e732b5b29e8181...|                   01151|           sao paulo|            SP|\n",
      "|202312|       202312|2023-12-14T17:06:32|         2023-12-14T17:06:32|2023-12-14T18:09:12|         2023-12-14T18:09:12|b2b6027bc5c5109e5...|259dac757896d24d7...|                   08775|     mogi das cruzes|            SP|\n",
      "|202312|       202312|2023-12-14T17:06:32|         2023-12-14T17:06:32|2023-12-14T18:09:12|         2023-12-14T18:09:12|4f2d8ab171c80ec83...|345ecd01c38d18a90...|                   13056|            campinas|            SP|\n",
      "|202312|       202312|2023-12-14T17:06:32|         2023-12-14T17:06:32|2023-12-14T18:09:12|         2023-12-14T18:09:12|879864dab9bc30475...|4c93744516667ad3b...|                   89254|      jaragua do sul|            SC|\n",
      "+------+-------------+-------------------+----------------------------+-------------------+----------------------------+--------------------+--------------------+------------------------+--------------------+--------------+\n",
      "only showing top 6 rows"
     ]
    }
   ],
   "source": [
    "raw_customers.show(6)"
   ]
  },
  {
   "cell_type": "code",
   "execution_count": 31,
   "id": "a98f6bd8",
   "metadata": {},
   "outputs": [
    {
     "data": {
      "application/vnd.jupyter.widget-view+json": {
       "model_id": "",
       "version_major": 2,
       "version_minor": 0
      },
      "text/plain": [
       "FloatProgress(value=0.0, bar_style='info', description='Progress:', layout=Layout(height='25px', width='50%'),…"
      ]
     },
     "metadata": {},
     "output_type": "display_data"
    },
    {
     "name": "stderr",
     "output_type": "stream",
     "text": [
      "An error was encountered:\n",
      "name 'str_s3_raw_file_path' is not defined\n",
      "Traceback (most recent call last):\n",
      "NameError: name 'str_s3_raw_file_path' is not defined\n",
      "\n"
     ]
    }
   ],
   "source": []
  },
  {
   "cell_type": "code",
   "execution_count": null,
   "id": "3bf8f8ee",
   "metadata": {},
   "outputs": [],
   "source": []
  }
 ],
 "metadata": {
  "kernelspec": {
   "display_name": "PySpark",
   "language": "python",
   "name": "pysparkkernel"
  },
  "language_info": {
   "codemirror_mode": {
    "name": "python",
    "version": 3
   },
   "file_extension": ".py",
   "mimetype": "text/x-python",
   "name": "pyspark",
   "pygments_lexer": "python3"
  }
 },
 "nbformat": 4,
 "nbformat_minor": 5
}
